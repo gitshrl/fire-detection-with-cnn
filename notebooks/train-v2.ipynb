{
 "cells": [
  {
   "cell_type": "code",
   "execution_count": 1,
   "metadata": {},
   "outputs": [
    {
     "name": "stderr",
     "output_type": "stream",
     "text": [
      "Using TensorFlow backend.\n"
     ]
    }
   ],
   "source": [
    "from tqdm import tqdm\n",
    "from matplotlib import pyplot as plt\n",
    "from tensorflow.keras.callbacks import EarlyStopping\n",
    "from tensorflow.keras.models import Sequential\n",
    "from tensorflow.keras.layers import Dense, Dropout, Activation, Flatten\n",
    "from tensorflow.keras.layers import Conv2D, AveragePooling2D\n",
    "from keras.preprocessing.image import ImageDataGenerator\n",
    "from sklearn.model_selection import train_test_split\n",
    "\n",
    "import os\n",
    "import cv2\n",
    "import numpy as np\n",
    "\n",
    "import warnings\n",
    "warnings.filterwarnings(\"ignore\")"
   ]
  },
  {
   "cell_type": "code",
   "execution_count": 2,
   "metadata": {},
   "outputs": [],
   "source": [
    "DATADIR = '../data/train'\n",
    "CATEGORIES = ['Fire', 'NoFire']"
   ]
  },
  {
   "cell_type": "code",
   "execution_count": 3,
   "metadata": {},
   "outputs": [],
   "source": [
    "IMG_SIZE = 32\n",
    "def create_training_data():\n",
    "    training_data = []\n",
    "    for category in CATEGORIES:  \n",
    "        path = os.path.join(DATADIR,category) \n",
    "        class_num = CATEGORIES.index(category)\n",
    "        for img in tqdm(os.listdir(path)):\n",
    "            try:\n",
    "                img_array = cv2.imread(os.path.join(path,img))\n",
    "                new_array = cv2.resize(img_array, (IMG_SIZE, IMG_SIZE))\n",
    "                training_data.append([new_array, class_num])\n",
    "            except Exception as e:\n",
    "                pass\n",
    "    return training_data"
   ]
  },
  {
   "cell_type": "code",
   "execution_count": 4,
   "metadata": {},
   "outputs": [
    {
     "name": "stderr",
     "output_type": "stream",
     "text": [
      "100%|██████████| 1124/1124 [00:09<00:00, 113.40it/s]\n",
      "100%|██████████| 1301/1301 [00:23<00:00, 55.78it/s]\n"
     ]
    }
   ],
   "source": [
    "training_data = create_training_data()"
   ]
  },
  {
   "cell_type": "code",
   "execution_count": 5,
   "metadata": {},
   "outputs": [
    {
     "data": {
      "text/plain": [
       "(32, 32, 3)"
      ]
     },
     "execution_count": 5,
     "metadata": {},
     "output_type": "execute_result"
    }
   ],
   "source": [
    "X = []\n",
    "Y = []\n",
    "\n",
    "for features,label in training_data:\n",
    "    X.append(features)\n",
    "    Y.append(label)\n",
    "\n",
    "X = np.array(X).reshape(-1, IMG_SIZE, IMG_SIZE, 3)\n",
    "X = X/255.0\n",
    "\n",
    "X.shape[1:]"
   ]
  },
  {
   "cell_type": "code",
   "execution_count": 6,
   "metadata": {},
   "outputs": [],
   "source": [
    "X_train, X_val, y_train, y_val = train_test_split(X, Y, test_size=0.3)"
   ]
  },
  {
   "cell_type": "code",
   "execution_count": 7,
   "metadata": {},
   "outputs": [],
   "source": [
    "train_datagen = ImageDataGenerator(\n",
    "    rotation_range=15,\n",
    "    horizontal_flip=True,\n",
    "    width_shift_range=0.1,\n",
    "    height_shift_range=0.1\n",
    ")\n",
    "train_datagen.fit(X_train)\n",
    "\n",
    "val_datagen = ImageDataGenerator(\n",
    "    rotation_range=15,\n",
    "    horizontal_flip=True,\n",
    "    width_shift_range=0.1,\n",
    "    height_shift_range=0.1\n",
    ")\n",
    "val_datagen.fit(X_val)"
   ]
  },
  {
   "cell_type": "code",
   "execution_count": 8,
   "metadata": {},
   "outputs": [
    {
     "name": "stderr",
     "output_type": "stream",
     "text": [
      "WARNING: Logging before flag parsing goes to stderr.\n",
      "W1217 23:44:42.710166 140003520735040 deprecation.py:506] From /home/hssahrul/miniconda3/envs/ML/lib/python3.7/site-packages/tensorflow/python/ops/init_ops.py:1251: calling VarianceScaling.__init__ (from tensorflow.python.ops.init_ops) with dtype is deprecated and will be removed in a future version.\n",
      "Instructions for updating:\n",
      "Call initializer instance with the dtype argument instead of passing it to the constructor\n"
     ]
    }
   ],
   "source": [
    "model = Sequential()\n",
    "\n",
    "model.add(Conv2D(filters=16, kernel_size=(3, 3), activation='relu', input_shape=X.shape[1:]))\n",
    "model.add(AveragePooling2D())\n",
    "model.add(Dropout(0.5))\n",
    "model.add(Conv2D(filters=32, kernel_size=(3, 3), activation='relu'))\n",
    "model.add(AveragePooling2D())\n",
    "model.add(Dropout(0.5))\n",
    "model.add(Conv2D(filters=64, kernel_size=(3, 3), activation='relu'))\n",
    "model.add(AveragePooling2D())\n",
    "model.add(Dropout(0.5))\n",
    "\n",
    "model.add(Flatten())\n",
    "model.add(Dense(units=256, activation='relu'))\n",
    "model.add(Dropout(0.2))\n",
    "model.add(Dense(units=128, activation='relu'))\n",
    "model.add(Dense(units=2, activation = 'softmax'))\n",
    "model.compile(loss='sparse_categorical_crossentropy', optimizer='adam', metrics=['accuracy'])"
   ]
  },
  {
   "cell_type": "code",
   "execution_count": 9,
   "metadata": {},
   "outputs": [
    {
     "name": "stdout",
     "output_type": "stream",
     "text": [
      "Epoch 1/100\n",
      "53/53 [==============================] - 5s 103ms/step - loss: 0.6170 - acc: 0.6415 - val_loss: 0.5566 - val_acc: 0.7442\n",
      "Epoch 2/100\n",
      "53/53 [==============================] - 3s 61ms/step - loss: 0.5934 - acc: 0.7005 - val_loss: 0.5380 - val_acc: 0.7387\n",
      "Epoch 3/100\n",
      "53/53 [==============================] - 3s 64ms/step - loss: 0.5610 - acc: 0.7235 - val_loss: 0.5306 - val_acc: 0.7318\n",
      "Epoch 4/100\n",
      "53/53 [==============================] - 4s 67ms/step - loss: 0.5421 - acc: 0.7394 - val_loss: 0.4918 - val_acc: 0.7689\n",
      "Epoch 5/100\n",
      "53/53 [==============================] - 3s 63ms/step - loss: 0.5432 - acc: 0.7294 - val_loss: 0.4901 - val_acc: 0.7772\n",
      "Epoch 6/100\n",
      "53/53 [==============================] - 3s 62ms/step - loss: 0.5332 - acc: 0.7524 - val_loss: 0.4892 - val_acc: 0.7923\n",
      "Epoch 7/100\n",
      "53/53 [==============================] - 3s 66ms/step - loss: 0.5105 - acc: 0.7524 - val_loss: 0.4725 - val_acc: 0.7882\n",
      "Epoch 8/100\n",
      "53/53 [==============================] - 4s 76ms/step - loss: 0.5003 - acc: 0.7695 - val_loss: 0.4613 - val_acc: 0.8019\n",
      "Epoch 9/100\n",
      "53/53 [==============================] - 5s 88ms/step - loss: 0.4945 - acc: 0.7600 - val_loss: 0.4503 - val_acc: 0.7964\n",
      "Epoch 10/100\n",
      "53/53 [==============================] - 3s 60ms/step - loss: 0.4661 - acc: 0.7754 - val_loss: 0.4235 - val_acc: 0.8171\n",
      "Epoch 11/100\n",
      "53/53 [==============================] - 3s 61ms/step - loss: 0.4543 - acc: 0.7889 - val_loss: 0.4205 - val_acc: 0.8019\n",
      "Epoch 12/100\n",
      "53/53 [==============================] - 4s 69ms/step - loss: 0.4555 - acc: 0.7983 - val_loss: 0.3844 - val_acc: 0.8391\n",
      "Epoch 13/100\n",
      "53/53 [==============================] - 3s 66ms/step - loss: 0.4427 - acc: 0.7925 - val_loss: 0.3866 - val_acc: 0.8226\n",
      "Epoch 14/100\n",
      "53/53 [==============================] - 3s 65ms/step - loss: 0.4129 - acc: 0.8184 - val_loss: 0.3787 - val_acc: 0.8336\n",
      "Epoch 15/100\n",
      "53/53 [==============================] - 4s 79ms/step - loss: 0.4071 - acc: 0.8172 - val_loss: 0.3713 - val_acc: 0.8404\n",
      "Epoch 16/100\n",
      "53/53 [==============================] - 4s 81ms/step - loss: 0.3963 - acc: 0.8166 - val_loss: 0.3534 - val_acc: 0.8446\n",
      "Epoch 17/100\n",
      "53/53 [==============================] - 4s 81ms/step - loss: 0.3853 - acc: 0.8314 - val_loss: 0.3473 - val_acc: 0.8583\n",
      "Epoch 18/100\n",
      "53/53 [==============================] - 4s 69ms/step - loss: 0.3938 - acc: 0.8237 - val_loss: 0.4344 - val_acc: 0.7882\n",
      "Epoch 19/100\n",
      "53/53 [==============================] - 4s 75ms/step - loss: 0.3865 - acc: 0.8373 - val_loss: 0.3441 - val_acc: 0.8583\n",
      "Epoch 20/100\n",
      "53/53 [==============================] - 4s 77ms/step - loss: 0.3550 - acc: 0.8508 - val_loss: 0.3296 - val_acc: 0.8776\n",
      "Epoch 21/100\n",
      "53/53 [==============================] - 4s 70ms/step - loss: 0.3674 - acc: 0.8373 - val_loss: 0.3540 - val_acc: 0.8418\n",
      "Epoch 22/100\n",
      "53/53 [==============================] - 4s 68ms/step - loss: 0.3608 - acc: 0.8532 - val_loss: 0.3118 - val_acc: 0.8762\n",
      "Epoch 23/100\n",
      "53/53 [==============================] - 3s 66ms/step - loss: 0.3521 - acc: 0.8496 - val_loss: 0.3353 - val_acc: 0.8611\n",
      "Epoch 24/100\n",
      "53/53 [==============================] - 4s 85ms/step - loss: 0.3342 - acc: 0.8626 - val_loss: 0.3258 - val_acc: 0.8638\n",
      "Epoch 25/100\n",
      "53/53 [==============================] - 4s 71ms/step - loss: 0.3395 - acc: 0.8508 - val_loss: 0.3571 - val_acc: 0.8528\n",
      "Epoch 26/100\n",
      "53/53 [==============================] - 3s 60ms/step - loss: 0.3199 - acc: 0.8603 - val_loss: 0.3472 - val_acc: 0.8473\n",
      "Epoch 27/100\n",
      "53/53 [==============================] - 4s 72ms/step - loss: 0.3287 - acc: 0.8650 - val_loss: 0.2973 - val_acc: 0.8666\n",
      "Epoch 28/100\n",
      "53/53 [==============================] - 5s 99ms/step - loss: 0.3388 - acc: 0.8526 - val_loss: 0.3458 - val_acc: 0.8542\n",
      "Epoch 29/100\n",
      "53/53 [==============================] - 6s 106ms/step - loss: 0.3278 - acc: 0.8550 - val_loss: 0.3051 - val_acc: 0.8707\n",
      "Epoch 30/100\n",
      "53/53 [==============================] - 6s 118ms/step - loss: 0.3105 - acc: 0.8656 - val_loss: 0.3161 - val_acc: 0.8638\n",
      "Epoch 31/100\n",
      "53/53 [==============================] - 4s 84ms/step - loss: 0.3014 - acc: 0.8638 - val_loss: 0.2986 - val_acc: 0.8721\n",
      "Epoch 32/100\n",
      "53/53 [==============================] - 4s 69ms/step - loss: 0.3347 - acc: 0.8591 - val_loss: 0.3048 - val_acc: 0.8845\n",
      "Epoch 33/100\n",
      "53/53 [==============================] - 4s 81ms/step - loss: 0.3240 - acc: 0.8662 - val_loss: 0.3225 - val_acc: 0.8638\n",
      "Epoch 34/100\n",
      "53/53 [==============================] - 4s 68ms/step - loss: 0.2959 - acc: 0.8785 - val_loss: 0.3172 - val_acc: 0.8624\n",
      "Epoch 35/100\n",
      "53/53 [==============================] - 3s 66ms/step - loss: 0.3066 - acc: 0.8768 - val_loss: 0.2816 - val_acc: 0.8872\n",
      "Epoch 36/100\n",
      "53/53 [==============================] - 4s 85ms/step - loss: 0.2873 - acc: 0.8779 - val_loss: 0.3306 - val_acc: 0.8735\n",
      "Epoch 37/100\n",
      "53/53 [==============================] - 3s 63ms/step - loss: 0.2952 - acc: 0.8774 - val_loss: 0.3422 - val_acc: 0.8652\n",
      "Epoch 38/100\n",
      "53/53 [==============================] - 4s 78ms/step - loss: 0.3027 - acc: 0.8768 - val_loss: 0.2972 - val_acc: 0.8721\n",
      "Epoch 39/100\n",
      "53/53 [==============================] - 4s 79ms/step - loss: 0.2932 - acc: 0.8892 - val_loss: 0.2836 - val_acc: 0.8707\n",
      "Epoch 40/100\n",
      "53/53 [==============================] - 4s 71ms/step - loss: 0.3039 - acc: 0.8726 - val_loss: 0.3011 - val_acc: 0.8762\n",
      "Epoch 41/100\n",
      "53/53 [==============================] - 3s 65ms/step - loss: 0.2898 - acc: 0.8715 - val_loss: 0.2869 - val_acc: 0.8748\n",
      "Epoch 42/100\n",
      "53/53 [==============================] - 4s 72ms/step - loss: 0.2937 - acc: 0.8715 - val_loss: 0.3346 - val_acc: 0.8597\n",
      "Epoch 43/100\n",
      "53/53 [==============================] - 4s 69ms/step - loss: 0.2837 - acc: 0.8880 - val_loss: 0.3166 - val_acc: 0.8680\n",
      "Epoch 44/100\n",
      "53/53 [==============================] - 4s 66ms/step - loss: 0.3088 - acc: 0.8691 - val_loss: 0.3094 - val_acc: 0.8556\n",
      "Epoch 45/100\n",
      "53/53 [==============================] - 4s 67ms/step - loss: 0.2763 - acc: 0.8874 - val_loss: 0.3552 - val_acc: 0.8638\n",
      "Epoch 46/100\n",
      "53/53 [==============================] - 4s 78ms/step - loss: 0.3059 - acc: 0.8667 - val_loss: 0.2698 - val_acc: 0.9010\n",
      "Epoch 47/100\n",
      "53/53 [==============================] - 4s 71ms/step - loss: 0.2825 - acc: 0.8833 - val_loss: 0.3236 - val_acc: 0.8569\n",
      "Epoch 48/100\n",
      "53/53 [==============================] - 3s 65ms/step - loss: 0.2679 - acc: 0.8909 - val_loss: 0.2977 - val_acc: 0.8721\n",
      "Epoch 49/100\n",
      "53/53 [==============================] - 3s 62ms/step - loss: 0.3112 - acc: 0.8721 - val_loss: 0.2853 - val_acc: 0.8955\n",
      "Epoch 50/100\n",
      "53/53 [==============================] - 4s 71ms/step - loss: 0.2742 - acc: 0.8915 - val_loss: 0.2777 - val_acc: 0.8941\n",
      "Epoch 51/100\n",
      "53/53 [==============================] - 4s 76ms/step - loss: 0.2690 - acc: 0.8933 - val_loss: 0.2697 - val_acc: 0.8955\n",
      "Epoch 52/100\n",
      "53/53 [==============================] - 4s 76ms/step - loss: 0.2743 - acc: 0.8933 - val_loss: 0.2789 - val_acc: 0.9092\n",
      "Epoch 53/100\n",
      "53/53 [==============================] - 4s 68ms/step - loss: 0.2770 - acc: 0.8815 - val_loss: 0.2783 - val_acc: 0.8831\n",
      "Epoch 54/100\n",
      "53/53 [==============================] - 4s 83ms/step - loss: 0.2726 - acc: 0.8903 - val_loss: 0.2554 - val_acc: 0.9051\n",
      "Epoch 55/100\n",
      "53/53 [==============================] - 4s 73ms/step - loss: 0.2640 - acc: 0.8980 - val_loss: 0.2894 - val_acc: 0.8721\n",
      "Epoch 56/100\n",
      "53/53 [==============================] - 4s 69ms/step - loss: 0.2711 - acc: 0.8903 - val_loss: 0.2872 - val_acc: 0.9010\n",
      "Epoch 57/100\n",
      "53/53 [==============================] - 4s 70ms/step - loss: 0.2606 - acc: 0.8874 - val_loss: 0.2724 - val_acc: 0.8927\n",
      "Epoch 58/100\n",
      "53/53 [==============================] - 5s 102ms/step - loss: 0.2728 - acc: 0.8915 - val_loss: 0.2898 - val_acc: 0.8803\n",
      "Epoch 59/100\n",
      "53/53 [==============================] - 4s 70ms/step - loss: 0.2544 - acc: 0.8886 - val_loss: 0.2550 - val_acc: 0.9010\n",
      "Epoch 60/100\n",
      "53/53 [==============================] - 4s 73ms/step - loss: 0.2597 - acc: 0.8950 - val_loss: 0.2782 - val_acc: 0.8858\n",
      "Epoch 61/100\n",
      "53/53 [==============================] - 3s 64ms/step - loss: 0.2706 - acc: 0.8892 - val_loss: 0.2977 - val_acc: 0.8776\n",
      "Epoch 62/100\n",
      "53/53 [==============================] - 3s 62ms/step - loss: 0.2776 - acc: 0.8774 - val_loss: 0.2790 - val_acc: 0.8858\n",
      "Epoch 63/100\n",
      "53/53 [==============================] - 3s 59ms/step - loss: 0.2372 - acc: 0.9027 - val_loss: 0.4228 - val_acc: 0.8418\n",
      "Epoch 64/100\n",
      "53/53 [==============================] - 3s 59ms/step - loss: 0.2719 - acc: 0.8821 - val_loss: 0.2770 - val_acc: 0.8872\n",
      "Epoch 65/100\n",
      "53/53 [==============================] - 3s 59ms/step - loss: 0.2524 - acc: 0.8950 - val_loss: 0.2677 - val_acc: 0.8913\n",
      "Epoch 66/100\n",
      "53/53 [==============================] - 3s 59ms/step - loss: 0.2338 - acc: 0.9139 - val_loss: 0.3052 - val_acc: 0.8790\n",
      "Epoch 67/100\n",
      "53/53 [==============================] - 3s 61ms/step - loss: 0.2630 - acc: 0.8939 - val_loss: 0.3048 - val_acc: 0.8886\n",
      "Epoch 68/100\n",
      "53/53 [==============================] - 3s 60ms/step - loss: 0.2556 - acc: 0.8968 - val_loss: 0.2703 - val_acc: 0.8996\n",
      "Epoch 69/100\n",
      "53/53 [==============================] - 3s 59ms/step - loss: 0.2680 - acc: 0.8880 - val_loss: 0.2675 - val_acc: 0.8845\n",
      "Epoch 70/100\n",
      "53/53 [==============================] - 3s 58ms/step - loss: 0.2523 - acc: 0.8909 - val_loss: 0.2873 - val_acc: 0.8776\n",
      "Epoch 71/100\n",
      "53/53 [==============================] - 3s 59ms/step - loss: 0.2639 - acc: 0.8921 - val_loss: 0.2724 - val_acc: 0.8803\n",
      "Epoch 72/100\n",
      "53/53 [==============================] - 3s 60ms/step - loss: 0.2433 - acc: 0.8939 - val_loss: 0.2692 - val_acc: 0.8955\n",
      "Epoch 73/100\n",
      "53/53 [==============================] - 3s 58ms/step - loss: 0.2539 - acc: 0.9015 - val_loss: 0.2961 - val_acc: 0.8762\n",
      "Epoch 74/100\n",
      "53/53 [==============================] - 3s 59ms/step - loss: 0.2453 - acc: 0.8980 - val_loss: 0.2380 - val_acc: 0.9147\n",
      "Epoch 75/100\n",
      "53/53 [==============================] - 3s 60ms/step - loss: 0.2474 - acc: 0.9009 - val_loss: 0.2776 - val_acc: 0.8831\n",
      "Epoch 76/100\n",
      "53/53 [==============================] - 3s 58ms/step - loss: 0.2527 - acc: 0.8980 - val_loss: 0.2691 - val_acc: 0.8955\n",
      "Epoch 77/100\n",
      "53/53 [==============================] - 3s 60ms/step - loss: 0.2365 - acc: 0.8980 - val_loss: 0.2544 - val_acc: 0.8913\n",
      "Epoch 78/100\n",
      "53/53 [==============================] - 3s 58ms/step - loss: 0.2372 - acc: 0.9033 - val_loss: 0.2659 - val_acc: 0.8982\n",
      "Epoch 79/100\n",
      "53/53 [==============================] - 4s 72ms/step - loss: 0.2440 - acc: 0.8998 - val_loss: 0.2531 - val_acc: 0.8982\n",
      "Epoch 80/100\n",
      "53/53 [==============================] - 5s 92ms/step - loss: 0.2242 - acc: 0.9086 - val_loss: 0.2874 - val_acc: 0.8941\n",
      "Epoch 81/100\n",
      "53/53 [==============================] - 4s 69ms/step - loss: 0.2503 - acc: 0.8998 - val_loss: 0.2382 - val_acc: 0.9065\n",
      "Epoch 82/100\n",
      "53/53 [==============================] - 4s 82ms/step - loss: 0.2323 - acc: 0.9098 - val_loss: 0.2450 - val_acc: 0.9092\n",
      "Epoch 83/100\n",
      "53/53 [==============================] - 4s 80ms/step - loss: 0.2293 - acc: 0.9057 - val_loss: 0.2350 - val_acc: 0.8968\n",
      "Epoch 84/100\n",
      "53/53 [==============================] - 4s 72ms/step - loss: 0.2417 - acc: 0.9045 - val_loss: 0.2683 - val_acc: 0.8968\n",
      "Epoch 85/100\n",
      "53/53 [==============================] - 4s 68ms/step - loss: 0.2300 - acc: 0.9139 - val_loss: 0.2646 - val_acc: 0.8941\n",
      "Epoch 86/100\n",
      "53/53 [==============================] - 3s 64ms/step - loss: 0.2470 - acc: 0.8939 - val_loss: 0.2868 - val_acc: 0.8872\n",
      "Epoch 87/100\n",
      "53/53 [==============================] - 3s 65ms/step - loss: 0.2405 - acc: 0.9021 - val_loss: 0.3009 - val_acc: 0.8735\n",
      "Epoch 88/100\n",
      "53/53 [==============================] - 3s 64ms/step - loss: 0.2280 - acc: 0.9009 - val_loss: 0.2427 - val_acc: 0.9147\n",
      "Epoch 89/100\n",
      "53/53 [==============================] - 3s 63ms/step - loss: 0.2273 - acc: 0.9110 - val_loss: 0.2410 - val_acc: 0.8982\n",
      "Epoch 90/100\n",
      "53/53 [==============================] - 3s 63ms/step - loss: 0.2236 - acc: 0.9139 - val_loss: 0.2276 - val_acc: 0.9147\n",
      "Epoch 91/100\n",
      "53/53 [==============================] - 3s 61ms/step - loss: 0.2299 - acc: 0.9051 - val_loss: 0.3047 - val_acc: 0.9147\n",
      "Epoch 92/100\n",
      "53/53 [==============================] - 3s 61ms/step - loss: 0.2324 - acc: 0.9133 - val_loss: 0.2781 - val_acc: 0.8927\n",
      "Epoch 93/100\n",
      "53/53 [==============================] - 3s 61ms/step - loss: 0.2329 - acc: 0.9057 - val_loss: 0.2311 - val_acc: 0.9051\n",
      "Epoch 94/100\n",
      "53/53 [==============================] - 3s 65ms/step - loss: 0.2230 - acc: 0.9116 - val_loss: 0.2484 - val_acc: 0.9010\n",
      "Epoch 95/100\n",
      "53/53 [==============================] - 4s 85ms/step - loss: 0.2155 - acc: 0.9127 - val_loss: 0.2684 - val_acc: 0.8968\n",
      "Epoch 96/100\n",
      "53/53 [==============================] - 5s 104ms/step - loss: 0.2210 - acc: 0.9121 - val_loss: 0.2415 - val_acc: 0.9010\n",
      "Epoch 97/100\n",
      "53/53 [==============================] - 4s 76ms/step - loss: 0.2171 - acc: 0.9121 - val_loss: 0.3246 - val_acc: 0.9065\n",
      "Epoch 98/100\n",
      "53/53 [==============================] - 3s 66ms/step - loss: 0.2375 - acc: 0.9068 - val_loss: 0.2844 - val_acc: 0.8872\n",
      "Epoch 99/100\n",
      "53/53 [==============================] - 4s 85ms/step - loss: 0.2273 - acc: 0.9116 - val_loss: 0.2434 - val_acc: 0.9092\n",
      "Epoch 100/100\n",
      "53/53 [==============================] - 4s 71ms/step - loss: 0.2283 - acc: 0.9051 - val_loss: 0.2636 - val_acc: 0.8996\n"
     ]
    }
   ],
   "source": [
    "history = model.fit_generator(\n",
    "    train_datagen.flow(X_train, y_train, batch_size=32), \n",
    "    validation_data=val_datagen.flow(X_val, y_val, batch_size=32), \n",
    "    epochs=100, \n",
    "    verbose=1\n",
    ")"
   ]
  },
  {
   "cell_type": "code",
   "execution_count": 10,
   "metadata": {},
   "outputs": [],
   "source": [
    "model_name = 'Fire-32x32-CNN-v2'\n",
    "model.save(f'../models/{model_name}.h5')"
   ]
  },
  {
   "cell_type": "code",
   "execution_count": 11,
   "metadata": {},
   "outputs": [
    {
     "data": {
      "image/png": "[encoded data removed]",
      "text/plain": [
       "<Figure size 432x288 with 1 Axes>"
      ]
     },
     "metadata": {
      "needs_background": "light"
     },
     "output_type": "display_data"
    }
   ],
   "source": [
    "plt.plot(history.history['acc'])\n",
    "plt.plot(history.history['val_acc'])\n",
    "plt.title(f'model accuracy of {model_name}')\n",
    "plt.ylabel('accuracy')\n",
    "plt.xlabel('epoch')\n",
    "plt.legend(['train', 'validation'])\n",
    "plt.savefig(f'{model_name}-accuracy')\n",
    "plt.show()"
   ]
  },
  {
   "cell_type": "code",
   "execution_count": 12,
   "metadata": {},
   "outputs": [
    {
     "data": {
      "image/png": "[encoded data removed]",
      "text/plain": [
       "<Figure size 432x288 with 1 Axes>"
      ]
     },
     "metadata": {
      "needs_background": "light"
     },
     "output_type": "display_data"
    }
   ],
   "source": [
    "plt.plot(history.history['loss'])\n",
    "plt.plot(history.history['val_loss'])\n",
    "plt.title(f'model loss of {model_name}')\n",
    "plt.ylabel('loss')\n",
    "plt.xlabel('epoch')\n",
    "plt.legend(['train', 'validation'])\n",
    "plt.savefig(f'{model_name}-loss')\n",
    "plt.show()"
   ]
  },
  {
   "cell_type": "code",
   "execution_count": null,
   "metadata": {},
   "outputs": [],
   "source": []
  },
  {
   "cell_type": "code",
   "execution_count": null,
   "metadata": {},
   "outputs": [],
   "source": []
  }
 ],
 "metadata": {
  "kernelspec": {
   "display_name": "Python 3",
   "language": "python",
   "name": "python3"
  },
  "language_info": {
   "codemirror_mode": {
    "name": "ipython",
    "version": 3
   },
   "file_extension": ".py",
   "mimetype": "text/x-python",
   "name": "python",
   "nbconvert_exporter": "python",
   "pygments_lexer": "ipython3",
   "version": "3.7.9"
  }
 },
 "nbformat": 4,
 "nbformat_minor": 4
}
