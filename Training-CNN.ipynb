{
 "cells": [
  {
   "cell_type": "code",
   "execution_count": 1,
   "metadata": {},
   "outputs": [],
   "source": [
    "from tqdm import tqdm\n",
    "from matplotlib import pyplot as plt\n",
    "from tensorflow.keras.callbacks import EarlyStopping\n",
    "from tensorflow.keras.models import Sequential\n",
    "from tensorflow.keras.layers import Dense, Dropout, Activation, Flatten\n",
    "from tensorflow.keras.layers import Conv2D, AveragePooling2D\n",
    "\n",
    "import os\n",
    "import cv2\n",
    "import numpy as np\n",
    "\n",
    "import warnings\n",
    "warnings.filterwarnings(\"ignore\")"
   ]
  },
  {
   "cell_type": "code",
   "execution_count": 2,
   "metadata": {},
   "outputs": [],
   "source": [
    "DATADIR = 'Datasets/Train'\n",
    "CATEGORIES = ['Fire', 'NoFire']"
   ]
  },
  {
   "cell_type": "code",
   "execution_count": 3,
   "metadata": {},
   "outputs": [],
   "source": [
    "IMG_SIZE = 32\n",
    "def create_training_data():\n",
    "    training_data = []\n",
    "    for category in CATEGORIES:  \n",
    "        path = os.path.join(DATADIR,category) \n",
    "        class_num = CATEGORIES.index(category)\n",
    "        for img in tqdm(os.listdir(path)):\n",
    "            try:\n",
    "                img_array = cv2.imread(os.path.join(path,img))\n",
    "                new_array = cv2.resize(img_array, (IMG_SIZE, IMG_SIZE))\n",
    "                training_data.append([new_array, class_num])\n",
    "            except Exception as e:\n",
    "                pass\n",
    "    return training_data"
   ]
  },
  {
   "cell_type": "code",
   "execution_count": 4,
   "metadata": {},
   "outputs": [
    {
     "name": "stderr",
     "output_type": "stream",
     "text": [
      "100%|██████████| 1124/1124 [00:09<00:00, 122.89it/s]\n",
      "100%|██████████| 1301/1301 [00:24<00:00, 52.61it/s]\n"
     ]
    }
   ],
   "source": [
    "training_data = create_training_data()"
   ]
  },
  {
   "cell_type": "code",
   "execution_count": 5,
   "metadata": {},
   "outputs": [
    {
     "data": {
      "text/plain": [
       "(32, 32, 3)"
      ]
     },
     "execution_count": 5,
     "metadata": {},
     "output_type": "execute_result"
    }
   ],
   "source": [
    "X, y = [], []\n",
    "\n",
    "for features, label in training_data:\n",
    "    X.append(features)\n",
    "    y.append(label)\n",
    "\n",
    "X = np.array(X).reshape(-1, IMG_SIZE, IMG_SIZE, 3)\n",
    "X = X / 255.0\n",
    "\n",
    "X.shape[1:]"
   ]
  },
  {
   "cell_type": "code",
   "execution_count": 6,
   "metadata": {},
   "outputs": [
    {
     "name": "stderr",
     "output_type": "stream",
     "text": [
      "WARNING: Logging before flag parsing goes to stderr.\n",
      "W1217 23:33:46.866964 140410391783232 deprecation.py:506] From /home/hssahrul/miniconda3/envs/ML/lib/python3.7/site-packages/tensorflow/python/ops/init_ops.py:1251: calling VarianceScaling.__init__ (from tensorflow.python.ops.init_ops) with dtype is deprecated and will be removed in a future version.\n",
      "Instructions for updating:\n",
      "Call initializer instance with the dtype argument instead of passing it to the constructor\n"
     ]
    }
   ],
   "source": [
    "model = Sequential()\n",
    "\n",
    "model.add(Conv2D(filters=16, kernel_size=(3, 3), activation='relu', input_shape=X.shape[1:]))\n",
    "model.add(AveragePooling2D())\n",
    "model.add(Dropout(0.5))\n",
    "model.add(Conv2D(filters=32, kernel_size=(3, 3), activation='relu'))\n",
    "model.add(AveragePooling2D())\n",
    "model.add(Dropout(0.5))\n",
    "model.add(Conv2D(filters=64, kernel_size=(3, 3), activation='relu'))\n",
    "model.add(AveragePooling2D())\n",
    "model.add(Dropout(0.5))\n",
    "\n",
    "model.add(Flatten())\n",
    "model.add(Dense(units=256, activation='relu'))\n",
    "model.add(Dropout(0.2))\n",
    "model.add(Dense(units=128, activation='relu'))\n",
    "model.add(Dense(units=2, activation = 'softmax'))\n",
    "\n",
    "model.compile(loss='sparse_categorical_crossentropy', optimizer='adam', metrics=['accuracy'])"
   ]
  },
  {
   "cell_type": "code",
   "execution_count": 7,
   "metadata": {},
   "outputs": [
    {
     "name": "stdout",
     "output_type": "stream",
     "text": [
      "Model: \"sequential\"\n",
      "_________________________________________________________________\n",
      "Layer (type)                 Output Shape              Param #   \n",
      "=================================================================\n",
      "conv2d (Conv2D)              (None, 30, 30, 16)        448       \n",
      "_________________________________________________________________\n",
      "average_pooling2d (AveragePo (None, 15, 15, 16)        0         \n",
      "_________________________________________________________________\n",
      "dropout (Dropout)            (None, 15, 15, 16)        0         \n",
      "_________________________________________________________________\n",
      "conv2d_1 (Conv2D)            (None, 13, 13, 32)        4640      \n",
      "_________________________________________________________________\n",
      "average_pooling2d_1 (Average (None, 6, 6, 32)          0         \n",
      "_________________________________________________________________\n",
      "dropout_1 (Dropout)          (None, 6, 6, 32)          0         \n",
      "_________________________________________________________________\n",
      "conv2d_2 (Conv2D)            (None, 4, 4, 64)          18496     \n",
      "_________________________________________________________________\n",
      "average_pooling2d_2 (Average (None, 2, 2, 64)          0         \n",
      "_________________________________________________________________\n",
      "dropout_2 (Dropout)          (None, 2, 2, 64)          0         \n",
      "_________________________________________________________________\n",
      "flatten (Flatten)            (None, 256)               0         \n",
      "_________________________________________________________________\n",
      "dense (Dense)                (None, 256)               65792     \n",
      "_________________________________________________________________\n",
      "dropout_3 (Dropout)          (None, 256)               0         \n",
      "_________________________________________________________________\n",
      "dense_1 (Dense)              (None, 128)               32896     \n",
      "_________________________________________________________________\n",
      "dense_2 (Dense)              (None, 2)                 258       \n",
      "=================================================================\n",
      "Total params: 122,530\n",
      "Trainable params: 122,530\n",
      "Non-trainable params: 0\n",
      "_________________________________________________________________\n"
     ]
    }
   ],
   "source": [
    "model.summary()"
   ]
  },
  {
   "cell_type": "code",
   "execution_count": 8,
   "metadata": {},
   "outputs": [
    {
     "name": "stdout",
     "output_type": "stream",
     "text": [
      "Train on 1696 samples, validate on 727 samples\n",
      "Epoch 1/100\n",
      "1696/1696 [==============================] - 3s 2ms/sample - loss: 0.6056 - acc: 0.6863 - val_loss: 0.8263 - val_acc: 0.5750\n",
      "Epoch 2/100\n",
      "1696/1696 [==============================] - 2s 1ms/sample - loss: 0.5422 - acc: 0.7600 - val_loss: 0.9832 - val_acc: 0.3521\n",
      "Epoch 3/100\n",
      "1696/1696 [==============================] - 2s 1ms/sample - loss: 0.4917 - acc: 0.7901 - val_loss: 0.8000 - val_acc: 0.5227\n",
      "Epoch 4/100\n",
      "1696/1696 [==============================] - 2s 1ms/sample - loss: 0.4739 - acc: 0.7930 - val_loss: 0.5681 - val_acc: 0.6657\n",
      "Epoch 5/100\n",
      "1696/1696 [==============================] - 2s 1ms/sample - loss: 0.4678 - acc: 0.8013 - val_loss: 0.5123 - val_acc: 0.7001\n",
      "Epoch 6/100\n",
      "1696/1696 [==============================] - 2s 1ms/sample - loss: 0.4230 - acc: 0.8284 - val_loss: 0.6324 - val_acc: 0.6479\n",
      "Epoch 7/100\n",
      "1696/1696 [==============================] - 2s 1ms/sample - loss: 0.3960 - acc: 0.8296 - val_loss: 0.4958 - val_acc: 0.7387\n",
      "Epoch 8/100\n",
      "1696/1696 [==============================] - 2s 1ms/sample - loss: 0.4045 - acc: 0.8231 - val_loss: 0.6136 - val_acc: 0.6713\n",
      "Epoch 9/100\n",
      "1696/1696 [==============================] - 3s 2ms/sample - loss: 0.3737 - acc: 0.8514 - val_loss: 0.6362 - val_acc: 0.6988\n",
      "Epoch 10/100\n",
      "1696/1696 [==============================] - 2s 1ms/sample - loss: 0.3657 - acc: 0.8514 - val_loss: 0.4204 - val_acc: 0.7868\n",
      "Epoch 11/100\n",
      "1696/1696 [==============================] - 2s 1ms/sample - loss: 0.3480 - acc: 0.8485 - val_loss: 0.4836 - val_acc: 0.7868\n",
      "Epoch 12/100\n",
      "1696/1696 [==============================] - 2s 1ms/sample - loss: 0.3430 - acc: 0.8585 - val_loss: 0.5160 - val_acc: 0.7648\n",
      "Epoch 13/100\n",
      "1696/1696 [==============================] - 2s 1ms/sample - loss: 0.3389 - acc: 0.8591 - val_loss: 0.6229 - val_acc: 0.7387\n",
      "Epoch 14/100\n",
      "1696/1696 [==============================] - 3s 2ms/sample - loss: 0.3243 - acc: 0.8650 - val_loss: 0.5290 - val_acc: 0.7744\n",
      "Epoch 15/100\n",
      "1696/1696 [==============================] - 3s 2ms/sample - loss: 0.3152 - acc: 0.8662 - val_loss: 0.3215 - val_acc: 0.8735\n",
      "Epoch 16/100\n",
      "1696/1696 [==============================] - 3s 2ms/sample - loss: 0.3058 - acc: 0.8667 - val_loss: 0.4364 - val_acc: 0.8074\n",
      "Epoch 17/100\n",
      "1696/1696 [==============================] - 3s 2ms/sample - loss: 0.2928 - acc: 0.8856 - val_loss: 0.2623 - val_acc: 0.8996\n",
      "Epoch 18/100\n",
      "1696/1696 [==============================] - 3s 2ms/sample - loss: 0.2880 - acc: 0.8903 - val_loss: 0.5080 - val_acc: 0.7827\n",
      "Epoch 19/100\n",
      "1696/1696 [==============================] - 4s 2ms/sample - loss: 0.2836 - acc: 0.8874 - val_loss: 0.3743 - val_acc: 0.8377\n",
      "Epoch 20/100\n",
      "1696/1696 [==============================] - 5s 3ms/sample - loss: 0.2796 - acc: 0.8874 - val_loss: 0.6116 - val_acc: 0.7483\n",
      "Epoch 21/100\n",
      "1696/1696 [==============================] - 4s 3ms/sample - loss: 0.2930 - acc: 0.8785 - val_loss: 0.3634 - val_acc: 0.8349\n",
      "Epoch 22/100\n",
      "1696/1696 [==============================] - 5s 3ms/sample - loss: 0.2801 - acc: 0.8850 - val_loss: 0.3820 - val_acc: 0.8336\n",
      "Epoch 23/100\n",
      "1696/1696 [==============================] - 5s 3ms/sample - loss: 0.2745 - acc: 0.8909 - val_loss: 0.5706 - val_acc: 0.7909\n",
      "Epoch 24/100\n",
      "1696/1696 [==============================] - 5s 3ms/sample - loss: 0.2746 - acc: 0.8892 - val_loss: 0.6592 - val_acc: 0.7387\n",
      "Epoch 25/100\n",
      "1696/1696 [==============================] - 5s 3ms/sample - loss: 0.2731 - acc: 0.8897 - val_loss: 0.2609 - val_acc: 0.8927\n",
      "Epoch 26/100\n",
      "1696/1696 [==============================] - 4s 3ms/sample - loss: 0.2580 - acc: 0.8897 - val_loss: 0.4477 - val_acc: 0.8212\n",
      "Epoch 27/100\n",
      "1696/1696 [==============================] - 4s 2ms/sample - loss: 0.2504 - acc: 0.8974 - val_loss: 0.3143 - val_acc: 0.8845\n",
      "Epoch 28/100\n",
      "1696/1696 [==============================] - 4s 2ms/sample - loss: 0.2512 - acc: 0.9015 - val_loss: 0.3107 - val_acc: 0.8762\n",
      "Epoch 29/100\n",
      "1696/1696 [==============================] - 4s 2ms/sample - loss: 0.2525 - acc: 0.8968 - val_loss: 0.3238 - val_acc: 0.8790\n",
      "Epoch 30/100\n",
      "1696/1696 [==============================] - 5s 3ms/sample - loss: 0.2628 - acc: 0.8886 - val_loss: 0.2302 - val_acc: 0.9092\n",
      "Epoch 31/100\n",
      "1696/1696 [==============================] - 4s 2ms/sample - loss: 0.2484 - acc: 0.8974 - val_loss: 0.3539 - val_acc: 0.8680\n",
      "Epoch 32/100\n",
      "1696/1696 [==============================] - 4s 2ms/sample - loss: 0.2550 - acc: 0.9021 - val_loss: 0.3827 - val_acc: 0.8391\n",
      "Epoch 33/100\n",
      "1696/1696 [==============================] - 5s 3ms/sample - loss: 0.2329 - acc: 0.8968 - val_loss: 0.2926 - val_acc: 0.9023\n",
      "Epoch 34/100\n",
      "1696/1696 [==============================] - 4s 2ms/sample - loss: 0.2486 - acc: 0.8933 - val_loss: 0.3123 - val_acc: 0.8886\n",
      "Epoch 35/100\n",
      "1696/1696 [==============================] - 5s 3ms/sample - loss: 0.2267 - acc: 0.9027 - val_loss: 0.3219 - val_acc: 0.8735\n",
      "Epoch 36/100\n",
      "1696/1696 [==============================] - 5s 3ms/sample - loss: 0.2145 - acc: 0.9104 - val_loss: 0.2666 - val_acc: 0.9188\n",
      "Epoch 37/100\n",
      "1696/1696 [==============================] - 4s 2ms/sample - loss: 0.2255 - acc: 0.9092 - val_loss: 0.2926 - val_acc: 0.9065\n",
      "Epoch 38/100\n",
      "1696/1696 [==============================] - 5s 3ms/sample - loss: 0.2289 - acc: 0.9027 - val_loss: 0.2563 - val_acc: 0.9188\n",
      "Epoch 39/100\n",
      "1696/1696 [==============================] - 4s 2ms/sample - loss: 0.2189 - acc: 0.9192 - val_loss: 0.2820 - val_acc: 0.8996\n",
      "Epoch 40/100\n",
      "1696/1696 [==============================] - 4s 3ms/sample - loss: 0.2210 - acc: 0.9157 - val_loss: 0.3899 - val_acc: 0.8735\n",
      "Epoch 41/100\n",
      "1696/1696 [==============================] - 5s 3ms/sample - loss: 0.2154 - acc: 0.9116 - val_loss: 0.3507 - val_acc: 0.8858\n",
      "Epoch 42/100\n",
      "1696/1696 [==============================] - 5s 3ms/sample - loss: 0.2177 - acc: 0.9110 - val_loss: 0.3017 - val_acc: 0.9037\n",
      "Epoch 43/100\n",
      "1696/1696 [==============================] - 5s 3ms/sample - loss: 0.2118 - acc: 0.9157 - val_loss: 0.2925 - val_acc: 0.8968\n",
      "Epoch 44/100\n",
      "1696/1696 [==============================] - 5s 3ms/sample - loss: 0.2250 - acc: 0.9121 - val_loss: 0.2667 - val_acc: 0.9106\n",
      "Epoch 45/100\n",
      "1696/1696 [==============================] - 4s 2ms/sample - loss: 0.2036 - acc: 0.9192 - val_loss: 0.3123 - val_acc: 0.8872\n",
      "Epoch 46/100\n",
      "1696/1696 [==============================] - 5s 3ms/sample - loss: 0.2119 - acc: 0.9110 - val_loss: 0.2975 - val_acc: 0.9023\n",
      "Epoch 47/100\n",
      "1696/1696 [==============================] - 5s 3ms/sample - loss: 0.2002 - acc: 0.9157 - val_loss: 0.1720 - val_acc: 0.9422\n",
      "Epoch 48/100\n",
      "1696/1696 [==============================] - 4s 2ms/sample - loss: 0.2052 - acc: 0.9092 - val_loss: 0.3025 - val_acc: 0.8996\n",
      "Epoch 49/100\n",
      "1696/1696 [==============================] - 5s 3ms/sample - loss: 0.2047 - acc: 0.9180 - val_loss: 0.2691 - val_acc: 0.9147\n",
      "Epoch 50/100\n",
      "1696/1696 [==============================] - 5s 3ms/sample - loss: 0.1921 - acc: 0.9210 - val_loss: 0.4254 - val_acc: 0.8501\n",
      "Epoch 51/100\n",
      "1696/1696 [==============================] - 5s 3ms/sample - loss: 0.1906 - acc: 0.9251 - val_loss: 0.3097 - val_acc: 0.9023\n",
      "Epoch 52/100\n",
      "1696/1696 [==============================] - 5s 3ms/sample - loss: 0.1942 - acc: 0.9222 - val_loss: 0.5001 - val_acc: 0.8336\n",
      "Epoch 53/100\n",
      "1696/1696 [==============================] - 4s 3ms/sample - loss: 0.1853 - acc: 0.9251 - val_loss: 0.2935 - val_acc: 0.9023\n",
      "Epoch 54/100\n",
      "1696/1696 [==============================] - 5s 3ms/sample - loss: 0.1939 - acc: 0.9198 - val_loss: 0.1893 - val_acc: 0.9381\n",
      "Epoch 55/100\n",
      "1696/1696 [==============================] - 5s 3ms/sample - loss: 0.2017 - acc: 0.9186 - val_loss: 0.3900 - val_acc: 0.8680\n",
      "Epoch 56/100\n",
      "1696/1696 [==============================] - 5s 3ms/sample - loss: 0.1635 - acc: 0.9328 - val_loss: 0.2981 - val_acc: 0.9092\n",
      "Epoch 57/100\n",
      "1696/1696 [==============================] - 4s 2ms/sample - loss: 0.2019 - acc: 0.9169 - val_loss: 0.2602 - val_acc: 0.9147\n",
      "Epoch 58/100\n",
      "1696/1696 [==============================] - 4s 2ms/sample - loss: 0.1743 - acc: 0.9292 - val_loss: 0.5878 - val_acc: 0.8088\n",
      "Epoch 59/100\n",
      "1696/1696 [==============================] - 5s 3ms/sample - loss: 0.1791 - acc: 0.9304 - val_loss: 0.3423 - val_acc: 0.8762\n",
      "Epoch 60/100\n",
      "1696/1696 [==============================] - 5s 3ms/sample - loss: 0.1479 - acc: 0.9469 - val_loss: 0.2526 - val_acc: 0.9298\n",
      "Epoch 61/100\n",
      "1696/1696 [==============================] - 5s 3ms/sample - loss: 0.1888 - acc: 0.9245 - val_loss: 0.3543 - val_acc: 0.8776\n",
      "Epoch 62/100\n",
      "1696/1696 [==============================] - 3s 2ms/sample - loss: 0.1666 - acc: 0.9316 - val_loss: 0.2502 - val_acc: 0.9257\n",
      "Epoch 63/100\n",
      "1696/1696 [==============================] - 4s 2ms/sample - loss: 0.1656 - acc: 0.9322 - val_loss: 0.3380 - val_acc: 0.9010\n",
      "Epoch 64/100\n",
      "1696/1696 [==============================] - 3s 2ms/sample - loss: 0.1662 - acc: 0.9298 - val_loss: 0.3454 - val_acc: 0.8941\n",
      "Epoch 65/100\n",
      "1696/1696 [==============================] - 3s 2ms/sample - loss: 0.1741 - acc: 0.9287 - val_loss: 0.2243 - val_acc: 0.9354\n",
      "Epoch 66/100\n",
      "1696/1696 [==============================] - 3s 2ms/sample - loss: 0.1878 - acc: 0.9298 - val_loss: 0.2572 - val_acc: 0.9065\n",
      "Epoch 67/100\n",
      "1696/1696 [==============================] - 3s 2ms/sample - loss: 0.1609 - acc: 0.9351 - val_loss: 0.3549 - val_acc: 0.8776\n",
      "Epoch 68/100\n",
      "1696/1696 [==============================] - 3s 2ms/sample - loss: 0.1552 - acc: 0.9422 - val_loss: 0.2567 - val_acc: 0.9147\n",
      "Epoch 69/100\n",
      "1696/1696 [==============================] - 3s 2ms/sample - loss: 0.1778 - acc: 0.9228 - val_loss: 0.4379 - val_acc: 0.8624\n",
      "Epoch 70/100\n",
      "1696/1696 [==============================] - 3s 2ms/sample - loss: 0.1697 - acc: 0.9292 - val_loss: 0.4079 - val_acc: 0.8542\n",
      "Epoch 71/100\n",
      "1696/1696 [==============================] - 4s 2ms/sample - loss: 0.1583 - acc: 0.9393 - val_loss: 0.2638 - val_acc: 0.9133\n",
      "Epoch 72/100\n",
      "1696/1696 [==============================] - 4s 2ms/sample - loss: 0.1610 - acc: 0.9346 - val_loss: 0.2056 - val_acc: 0.9271\n",
      "Epoch 73/100\n",
      "1696/1696 [==============================] - 3s 2ms/sample - loss: 0.1888 - acc: 0.9228 - val_loss: 0.3593 - val_acc: 0.8872\n",
      "Epoch 74/100\n",
      "1696/1696 [==============================] - 4s 2ms/sample - loss: 0.1720 - acc: 0.9287 - val_loss: 0.4105 - val_acc: 0.8652\n",
      "Epoch 75/100\n",
      "1696/1696 [==============================] - 3s 2ms/sample - loss: 0.1582 - acc: 0.9322 - val_loss: 0.3144 - val_acc: 0.9023\n",
      "Epoch 76/100\n",
      "1696/1696 [==============================] - 3s 2ms/sample - loss: 0.1646 - acc: 0.9275 - val_loss: 0.2457 - val_acc: 0.9216\n",
      "Epoch 77/100\n",
      "1696/1696 [==============================] - 4s 2ms/sample - loss: 0.1672 - acc: 0.9340 - val_loss: 0.3621 - val_acc: 0.8858\n",
      "Epoch 78/100\n",
      "1696/1696 [==============================] - 3s 2ms/sample - loss: 0.1630 - acc: 0.9298 - val_loss: 0.6084 - val_acc: 0.7937\n",
      "Epoch 79/100\n",
      "1696/1696 [==============================] - 4s 2ms/sample - loss: 0.1571 - acc: 0.9322 - val_loss: 0.2859 - val_acc: 0.9188\n",
      "Epoch 80/100\n",
      "1696/1696 [==============================] - 4s 2ms/sample - loss: 0.1657 - acc: 0.9292 - val_loss: 0.2280 - val_acc: 0.9271\n",
      "Epoch 81/100\n",
      "1696/1696 [==============================] - 3s 2ms/sample - loss: 0.1448 - acc: 0.9399 - val_loss: 0.3043 - val_acc: 0.9120\n",
      "Epoch 82/100\n",
      "1696/1696 [==============================] - 4s 2ms/sample - loss: 0.1488 - acc: 0.9463 - val_loss: 0.2161 - val_acc: 0.9298\n",
      "Epoch 83/100\n",
      "1696/1696 [==============================] - 3s 2ms/sample - loss: 0.1455 - acc: 0.9399 - val_loss: 0.2935 - val_acc: 0.8968\n",
      "Epoch 84/100\n",
      "1696/1696 [==============================] - 4s 2ms/sample - loss: 0.1570 - acc: 0.9340 - val_loss: 0.3782 - val_acc: 0.8721\n",
      "Epoch 85/100\n",
      "1696/1696 [==============================] - 4s 2ms/sample - loss: 0.1438 - acc: 0.9416 - val_loss: 0.3068 - val_acc: 0.8941\n",
      "Epoch 86/100\n",
      "1696/1696 [==============================] - 3s 2ms/sample - loss: 0.1471 - acc: 0.9393 - val_loss: 0.4381 - val_acc: 0.8707\n",
      "Epoch 87/100\n",
      "1696/1696 [==============================] - 3s 2ms/sample - loss: 0.1488 - acc: 0.9458 - val_loss: 0.5351 - val_acc: 0.8239\n",
      "Epoch 88/100\n",
      "1696/1696 [==============================] - 5s 3ms/sample - loss: 0.1608 - acc: 0.9351 - val_loss: 0.2780 - val_acc: 0.9188\n",
      "Epoch 89/100\n",
      "1696/1696 [==============================] - 4s 2ms/sample - loss: 0.1294 - acc: 0.9528 - val_loss: 0.2739 - val_acc: 0.9271\n",
      "Epoch 90/100\n",
      "1696/1696 [==============================] - 4s 2ms/sample - loss: 0.1557 - acc: 0.9387 - val_loss: 0.2194 - val_acc: 0.9161\n",
      "Epoch 91/100\n",
      "1696/1696 [==============================] - 4s 2ms/sample - loss: 0.1427 - acc: 0.9469 - val_loss: 0.1827 - val_acc: 0.9436\n",
      "Epoch 92/100\n",
      "1696/1696 [==============================] - 4s 3ms/sample - loss: 0.1351 - acc: 0.9428 - val_loss: 0.2022 - val_acc: 0.9188\n",
      "Epoch 93/100\n",
      "1696/1696 [==============================] - 5s 3ms/sample - loss: 0.1577 - acc: 0.9387 - val_loss: 0.3228 - val_acc: 0.8748\n",
      "Epoch 94/100\n",
      "1696/1696 [==============================] - 5s 3ms/sample - loss: 0.1403 - acc: 0.9493 - val_loss: 0.1778 - val_acc: 0.9354\n",
      "Epoch 95/100\n",
      "1696/1696 [==============================] - 5s 3ms/sample - loss: 0.1382 - acc: 0.9446 - val_loss: 0.3741 - val_acc: 0.9037\n",
      "Epoch 96/100\n",
      "1696/1696 [==============================] - 5s 3ms/sample - loss: 0.1583 - acc: 0.9393 - val_loss: 0.3076 - val_acc: 0.9120\n",
      "Epoch 97/100\n",
      "1696/1696 [==============================] - 5s 3ms/sample - loss: 0.1298 - acc: 0.9469 - val_loss: 0.4862 - val_acc: 0.8583\n",
      "Epoch 98/100\n",
      "1696/1696 [==============================] - 4s 3ms/sample - loss: 0.1508 - acc: 0.9452 - val_loss: 0.2802 - val_acc: 0.9065\n",
      "Epoch 99/100\n",
      "1696/1696 [==============================] - 4s 2ms/sample - loss: 0.1407 - acc: 0.9404 - val_loss: 0.2956 - val_acc: 0.9188\n",
      "Epoch 100/100\n",
      "1696/1696 [==============================] - 4s 2ms/sample - loss: 0.1567 - acc: 0.9381 - val_loss: 0.3094 - val_acc: 0.8900\n"
     ]
    }
   ],
   "source": [
    "history = model.fit(X, y, batch_size=32, epochs=100, validation_split=0.3)"
   ]
  },
  {
   "cell_type": "code",
   "execution_count": 12,
   "metadata": {},
   "outputs": [],
   "source": [
    "model_name = 'Fire-32x32-CNN-v1'\n",
    "model.save(f'Model/{model_name}.h5')"
   ]
  },
  {
   "cell_type": "code",
   "execution_count": 13,
   "metadata": {},
   "outputs": [
    {
     "data": {
      "image/png": "[encoded data removed]",
      "text/plain": [
       "<Figure size 432x288 with 1 Axes>"
      ]
     },
     "metadata": {
      "needs_background": "light"
     },
     "output_type": "display_data"
    }
   ],
   "source": [
    "plt.plot(history.history['acc'])\n",
    "plt.plot(history.history['val_acc'])\n",
    "plt.title(f'model accuracy of {model_name}')\n",
    "plt.ylabel('accuracy')\n",
    "plt.xlabel('epoch')\n",
    "plt.legend(['train', 'validation'])\n",
    "plt.savefig(f'{model_name}-accuracy')\n",
    "plt.show()"
   ]
  },
  {
   "cell_type": "code",
   "execution_count": 14,
   "metadata": {},
   "outputs": [
    {
     "data": {
      "image/png": "[encoded data removed]",
      "text/plain": [
       "<Figure size 432x288 with 1 Axes>"
      ]
     },
     "metadata": {
      "needs_background": "light"
     },
     "output_type": "display_data"
    }
   ],
   "source": [
    "plt.plot(history.history['loss'])\n",
    "plt.plot(history.history['val_loss'])\n",
    "plt.title(f'model loss of {model_name}')\n",
    "plt.ylabel('loss')\n",
    "plt.xlabel('epoch')\n",
    "plt.legend(['train', 'validation'])\n",
    "plt.savefig(f'{model_name}-loss')\n",
    "plt.show()"
   ]
  },
  {
   "cell_type": "code",
   "execution_count": null,
   "metadata": {},
   "outputs": [],
   "source": []
  },
  {
   "cell_type": "code",
   "execution_count": null,
   "metadata": {},
   "outputs": [],
   "source": []
  },
  {
   "cell_type": "code",
   "execution_count": null,
   "metadata": {},
   "outputs": [],
   "source": []
  }
 ],
 "metadata": {
  "kernelspec": {
   "display_name": "Python 3",
   "language": "python",
   "name": "python3"
  },
  "language_info": {
   "codemirror_mode": {
    "name": "ipython",
    "version": 3
   },
   "file_extension": ".py",
   "mimetype": "text/x-python",
   "name": "python",
   "nbconvert_exporter": "python",
   "pygments_lexer": "ipython3",
   "version": "3.7.3"
  }
 },
 "nbformat": 4,
 "nbformat_minor": 4
}
